{
 "cells": [
  {
   "cell_type": "markdown",
   "metadata": {},
   "source": [
    "![Alt Text](http://spark-mooc.github.io/web-assets/images/ta_Spark-logo-small.png)"
   ]
  },
  {
   "cell_type": "markdown",
   "metadata": {},
   "source": [
    "![Alt Text](http://spark-mooc.github.io/web-assets/images/python-logo-master-v3-TM-flattened_small.png)"
   ]
  },
  {
   "cell_type": "markdown",
   "metadata": {},
   "source": [
    "#### final assgiment (question 1)\n",
    "\n",
    "first we will upload the data 'cancer_data.csv' to the notebook"
   ]
  },
  {
   "cell_type": "markdown",
   "metadata": {},
   "source": [
    "then,we will solve this assignment we will be using scikit-learn to identify client segemnts in a database of customers from a wholesale retailer"
   ]
  },
  {
   "cell_type": "markdown",
   "metadata": {},
   "source": [
    "In cancer_data.csv you will find the following variables,that we will use for clustering."
   ]
  },
  {
   "cell_type": "markdown",
   "metadata": {},
   "source": [
    "radius (mean of distances from center to points on the perimeter)\n",
    "\n",
    "texture (standard deviation of gray-scale values)\n",
    "\n",
    "perimeter\n",
    "\n",
    "area\n",
    "\n",
    "smoothness (local variation in radius lengths)\n",
    "\n",
    "compactness (perimeter^2 / area - 1.0)\n",
    "\n",
    "concavity (severity of concave portions of the contour)\n",
    "\n",
    "concave_points (number of concave portions of the contour)\n",
    "\n",
    "symmetry\n",
    "\n",
    "fractal_dimension (\"coastline approximation\" - 1)\n",
    "\n",
    "cancer (0 = Benign, 1 = Malignant) target\n",
    "\n"
   ]
  },
  {
   "cell_type": "markdown",
   "metadata": {},
   "source": [
    "then, we need to load the appropriate libraries for cleaning the data and then running a kMeans clustering algorithm. Again, we also set a random seed for replication."
   ]
  },
  {
   "cell_type": "code",
   "execution_count": 4,
   "metadata": {},
   "outputs": [],
   "source": [
    "from sklearn import cluster\n",
    "import pandas as pd\n",
    "import numpy as np\n",
    "np.random.seed(100)"
   ]
  },
  {
   "cell_type": "markdown",
   "metadata": {},
   "source": [
    "here we use the read_csv function from pandas to read in our dataset and take a subset of variables used for training."
   ]
  },
  {
   "cell_type": "code",
   "execution_count": 5,
   "metadata": {},
   "outputs": [],
   "source": [
    "df = pd.read_csv('cancer_data.csv')\n",
    "df = df[['radius','texture','perimeter','area','smoothness','compactness','concavity','concave_points','symmetry','fractal_dimension','cancer']]"
   ]
  },
  {
   "cell_type": "markdown",
   "metadata": {},
   "source": [
    "Next, we use the KMeans function to group the data into two natural clusters,0 for benign and 1 for malignant.We can then print out the assigned labels using .labels_"
   ]
  },
  {
   "cell_type": "code",
   "execution_count": 6,
   "metadata": {},
   "outputs": [
    {
     "data": {
      "text/plain": [
       "array([1, 1, 1, 0, 1, 0, 1, 0, 0, 0, 0, 0, 1, 0, 0, 0, 0, 0, 1, 0, 0, 0, 0,\n",
       "       1, 1, 1, 0, 1, 0, 1, 1, 0, 1, 1, 0, 1, 0, 0, 0, 0, 0, 0, 1, 0, 0, 1,\n",
       "       0, 0, 0, 0, 0, 0, 0, 1, 0, 0, 1, 0, 0, 0, 0, 0, 0, 0, 0, 0, 0, 0, 0,\n",
       "       0, 1, 0, 1, 0, 0, 0, 0, 1, 1, 0, 0, 0, 1, 1, 0, 1, 0, 1, 0, 0, 0, 0,\n",
       "       0, 0, 0, 1, 0, 0, 0, 0, 0, 0, 0, 0, 0, 0, 0, 0, 1, 0, 0, 0, 0, 0, 0,\n",
       "       0, 0, 0, 0, 1, 0, 1, 1, 0, 0, 0, 0, 1, 0, 1, 0, 0, 0, 0, 1, 0, 0, 0,\n",
       "       0, 0, 0, 0, 0, 0, 0, 0, 0, 0, 0, 0, 0, 0, 0, 0, 0, 0, 1, 1, 0, 0, 0,\n",
       "       1, 1, 0, 1, 0, 0, 1, 1, 0, 0, 0, 0, 0, 0, 0, 0, 0, 0, 0, 1, 1, 0, 0,\n",
       "       0, 0, 1, 0, 0, 0, 0, 0, 0, 0, 0, 0, 0, 1, 1, 0, 0, 1, 1, 0, 0, 0, 0,\n",
       "       1, 0, 0, 1, 0, 1, 1, 0, 0, 0, 0, 1, 1, 0, 0, 0, 0, 0, 0, 0, 0, 0, 0,\n",
       "       1, 0, 0, 1, 0, 0, 1, 1, 0, 1, 0, 0, 0, 0, 1, 0, 0, 0, 0, 0, 1, 0, 1,\n",
       "       1, 1, 0, 1, 0, 0, 0, 1, 1, 1, 0, 1, 1, 0, 0, 0, 0, 0, 0, 1, 0, 1, 0,\n",
       "       0, 1, 0, 0, 1, 0, 1, 0, 0, 0, 0, 0, 0, 0, 0, 0, 0, 0, 0, 0, 0, 0, 0,\n",
       "       0, 1, 0, 1, 0, 0, 0, 0, 0, 0, 0, 0, 0, 0, 0, 0, 0, 0, 1, 0, 0, 0, 1,\n",
       "       0, 1, 0, 0, 0, 0, 0, 0, 0, 0, 0, 0, 0, 1, 0, 1, 0, 1, 0, 0, 0, 1, 0,\n",
       "       0, 0, 0, 0, 0, 0, 0, 1, 0, 0, 0, 0, 0, 0, 0, 0, 0, 0, 0, 0, 1, 1, 0,\n",
       "       1, 1, 0, 0, 1, 1, 0, 0, 0, 0, 0, 0, 0, 0, 0, 0, 0, 0, 0, 0, 0, 1, 0,\n",
       "       0, 0, 1, 0, 0, 0, 0, 0, 0, 1, 0, 0, 0, 0, 0, 0, 0, 1, 0, 0, 0, 0, 0,\n",
       "       0, 0, 0, 0, 0, 0, 0, 0, 0, 0, 0, 0, 0, 0, 0, 0, 0, 0, 1, 1, 0, 0, 0,\n",
       "       0, 0, 0, 0, 1, 0, 0, 1, 0, 1, 0, 0, 1, 0, 1, 0, 0, 0, 0, 0, 0, 0, 0,\n",
       "       1, 1, 0, 0, 0, 0, 0, 0, 1, 0, 0, 0, 0, 0, 0, 0, 0, 0, 0, 0, 0, 0, 0,\n",
       "       0, 0, 0, 0, 1, 0, 1, 0, 1, 1, 0, 0, 0, 0, 0, 1, 1, 0, 0, 0, 1, 0, 0,\n",
       "       0, 0, 0, 0, 0, 0, 0, 0, 0, 0, 1, 1, 0, 0, 0, 1, 0, 0, 0, 0, 0, 0, 0,\n",
       "       0, 0, 0, 0, 1, 0, 1, 0, 0, 0, 0, 0, 0, 0, 0, 0, 0, 0, 0, 0, 0, 0, 0,\n",
       "       0, 0, 0, 0, 0, 0, 0, 0, 0, 0, 0, 1, 1, 1, 1, 1, 0], dtype=int32)"
      ]
     },
     "execution_count": 6,
     "metadata": {},
     "output_type": "execute_result"
    }
   ],
   "source": [
    "k_means = cluster.KMeans(n_clusters=2)\n",
    "k_means.fit(df) \n",
    "k_means.labels_"
   ]
  },
  {
   "cell_type": "markdown",
   "metadata": {},
   "source": [
    "Here we take a subset of the observations in ocancer patient database that were assigned to cluster 0 and print out the average bening category of cancer as well as the total. We can inspect the observations in cluster 0 by using: df.loc[i,]"
   ]
  },
  {
   "cell_type": "code",
   "execution_count": 8,
   "metadata": {},
   "outputs": [
    {
     "name": "stdout",
     "output_type": "stream",
     "text": [
      "Mean:\n",
      "radius                12.600809\n",
      "texture               18.577326\n",
      "perimeter             81.456629\n",
      "area                 499.714607\n",
      "smoothness             0.095258\n",
      "compactness            0.092777\n",
      "concavity              0.064502\n",
      "concave_points         0.034593\n",
      "symmetry               0.178703\n",
      "fractal_dimension      0.063593\n",
      "cancer                 0.797753\n",
      "dtype: float64\n",
      "55.7887771514\n"
     ]
    }
   ],
   "source": [
    "# cluster(0)\n",
    "i, = np.where(k_means.labels_==0)\n",
    "print('Mean:')\n",
    "print(df.loc[i,].mean())\n",
    "\n",
    "print(df.loc[i,].mean().sum()/11)\n",
    "\n",
    "# df.loc[i,]"
   ]
  },
  {
   "cell_type": "markdown",
   "metadata": {},
   "source": [
    " #### cluster1"
   ]
  },
  {
   "cell_type": "code",
   "execution_count": 9,
   "metadata": {},
   "outputs": [
    {
     "name": "stdout",
     "output_type": "stream",
     "text": [
      "Mean:\n",
      "radius                 19.620968\n",
      "texture                21.847581\n",
      "perimeter             129.733871\n",
      "area                 1212.258065\n",
      "smoothness              0.100318\n",
      "compactness             0.145895\n",
      "concavity               0.175990\n",
      "concave_points          0.100317\n",
      "symmetry                0.190089\n",
      "fractal_dimension       0.059940\n",
      "cancer                  0.016129\n",
      "dtype: float64\n",
      "125.840832918\n"
     ]
    }
   ],
   "source": [
    "i, = np.where(k_means.labels_==1)\n",
    "print('Mean:')\n",
    "print(df.loc[i,].mean())\n",
    "\n",
    "print(df.loc[i,].mean().sum()/11)\n",
    "\n",
    "# df.loc[i,]"
   ]
  },
  {
   "cell_type": "markdown",
   "metadata": {},
   "source": [
    "#### by comparing the 2 clusters by this prediction"
   ]
  },
  {
   "cell_type": "markdown",
   "metadata": {},
   "source": [
    "radius: 14\n",
    "\n",
    "texture: 14\n",
    "\n",
    "perimeter: 88\n",
    "\n",
    "area: 566\n",
    "\n",
    "smoothness: 1\n",
    "\n",
    "compactness: 0.08\n",
    "\n",
    "concavity: 0.06\n",
    "\n",
    "concae points: 0.04\n",
    "\n",
    "symmetry: 0.18\n",
    "\n",
    "fractal dimension: 0.05\n",
    "\n"
   ]
  },
  {
   "cell_type": "markdown",
   "metadata": {},
   "source": [
    "#### the final conclusion is that it's approximated to cluster = 0"
   ]
  },
  {
   "cell_type": "code",
   "execution_count": null,
   "metadata": {},
   "outputs": [],
   "source": []
  }
 ],
 "metadata": {
  "kernelspec": {
   "display_name": "Python 3",
   "language": "python",
   "name": "python3"
  },
  "language_info": {
   "codemirror_mode": {
    "name": "ipython",
    "version": 3
   },
   "file_extension": ".py",
   "mimetype": "text/x-python",
   "name": "python",
   "nbconvert_exporter": "python",
   "pygments_lexer": "ipython3",
   "version": "3.6.2"
  }
 },
 "nbformat": 4,
 "nbformat_minor": 2
}
