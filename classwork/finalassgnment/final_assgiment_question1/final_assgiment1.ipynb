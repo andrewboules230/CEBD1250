{
 "cells": [
  {
   "cell_type": "markdown",
   "metadata": {},
   "source": [
    "![Alt Text](http://spark-mooc.github.io/web-assets/images/python-logo-master-v3-TM-flattened_small.png)\n",
    "![Alt Text](http://spark-mooc.github.io/web-assets/images/ta_Spark-logo-small.png)\n",
    "\n",
    "\n",
    "### in this assgnment we will use a kind of alograthims with some varibales form cancer dataset to identify the kind of tumor\n",
    "\n",
    "\n",
    "we will assgin the following varibales to identify the kind of tumor:\n",
    "\n",
    "\n",
    " - radius (mean of distances from center to points on the perimeter)\n",
    " \n",
    "   - texture (standard deviation of gray-scale values)\n",
    "   \n",
    "   - perimeter\n",
    "   \n",
    "   - area\n",
    "   \n",
    "   - smoothness (local variation in radius lengths)\n",
    "   \n",
    "   - compactness (perimeter^2 / area - 1.0)\n",
    "   \n",
    "   - concavity (severity of concave portions of the contour)\n",
    "   \n",
    "   - concave_points (number of concave portions of the contour)\n",
    "   \n",
    "   - symmetry \n",
    "   \n",
    "   - fractal_dimension (\"coastline approximation\" - 1)\n",
    "   \n",
    "   - cancer (0 = Benign, 1 = Malignant)  *target*\n",
    "   \n",
    "\n"
   ]
  },
  {
   "cell_type": "markdown",
   "metadata": {},
   "source": [
    "then we have to assgin the libaries we have to use to run this code"
   ]
  },
  {
   "cell_type": "code",
   "execution_count": 7,
   "metadata": {},
   "outputs": [],
   "source": [
    "from sklearn import datasets, neighbors\n",
    "import pandas as pd\n",
    "import numpy as np\n",
    "\n",
    "k=10\n",
    "\n"
   ]
  },
  {
   "cell_type": "markdown",
   "metadata": {},
   "source": [
    "#### here i'm assgining the dataset i'm working with and assgining (x,y)"
   ]
  },
  {
   "cell_type": "code",
   "execution_count": 4,
   "metadata": {},
   "outputs": [
    {
     "data": {
      "text/plain": [
       "KNeighborsClassifier(algorithm='auto', leaf_size=30, metric='minkowski',\n",
       "           metric_params=None, n_jobs=1, n_neighbors=10, p=2,\n",
       "           weights='distance')"
      ]
     },
     "execution_count": 4,
     "metadata": {},
     "output_type": "execute_result"
    }
   ],
   "source": [
    "df = pd.read_csv('cancer_data.csv')\n",
    "x = df[['radius','texture','perimeter','area','smoothness','compactness','concavity',\n",
    "         'concave_points','symmetry','fractal_dimension']]\n",
    "y = df.cancer"
   ]
  },
  {
   "cell_type": "markdown",
   "metadata": {},
   "source": [
    " #### fiting  neighbors(k) into (x,y)"
   ]
  },
  {
   "cell_type": "code",
   "execution_count": 5,
   "metadata": {},
   "outputs": [
    {
     "name": "stdout",
     "output_type": "stream",
     "text": [
      "[ 1.]\n"
     ]
    }
   ],
   "source": [
    "knn = neighbors.KNeighborsClassifier(n_neighbors = k, weights='distance')\n",
    "\n",
    "knn.fit(x, y)"
   ]
  },
  {
   "cell_type": "markdown",
   "metadata": {},
   "source": [
    "#### by making prediction we will get the type of tumor we are dealing with"
   ]
  },
  {
   "cell_type": "code",
   "execution_count": 8,
   "metadata": {},
   "outputs": [
    {
     "name": "stdout",
     "output_type": "stream",
     "text": [
      "[ 1.]\n"
     ]
    }
   ],
   "source": [
    "pred = knn.predict([[14,14,88,566,1,0.08,0.06,0.04,0.18,0.05]])\n",
    "print(pred)\n",
    "\n"
   ]
  },
  {
   "cell_type": "markdown",
   "metadata": {},
   "source": [
    "#### finaly the result is (1) so that's a Malignant tumor "
   ]
  },
  {
   "cell_type": "code",
   "execution_count": null,
   "metadata": {},
   "outputs": [],
   "source": []
  }
 ],
 "metadata": {
  "kernelspec": {
   "display_name": "Python 3",
   "language": "python",
   "name": "python3"
  },
  "language_info": {
   "codemirror_mode": {
    "name": "ipython",
    "version": 3
   },
   "file_extension": ".py",
   "mimetype": "text/x-python",
   "name": "python",
   "nbconvert_exporter": "python",
   "pygments_lexer": "ipython3",
   "version": "3.6.2"
  }
 },
 "nbformat": 4,
 "nbformat_minor": 2
}
